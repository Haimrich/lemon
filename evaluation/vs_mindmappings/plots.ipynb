{
 "cells": [
  {
   "attachments": {},
   "cell_type": "markdown",
   "metadata": {},
   "source": [
    "### Imports and utils"
   ]
  },
  {
   "cell_type": "code",
   "execution_count": 1,
   "metadata": {
    "vscode": {
     "languageId": "python"
    }
   },
   "outputs": [],
   "source": [
    "import re, glob, json\n",
    "import matplotlib.pyplot as plt\n",
    "import seaborn as sns\n",
    "import pandas as pd\n",
    "\n",
    "# Extract Timeloop Statistics from output files\n",
    "def extract_tl_stats(file_path):\n",
    "  with open(file_path, \"r\") as f:\n",
    "    stats = f.read()\n",
    "\n",
    "    res = re.findall(r'Utilization:\\s(\\d+.\\d+)\\s', stats, re.DOTALL)\n",
    "    utilization = float(res[0])\n",
    "\n",
    "    res = re.findall(r'Total\\s+= (\\d+.\\d+)\\s', stats, re.DOTALL)\n",
    "    efficiency = float(res[0])\n",
    "\n",
    "    res = re.findall(r'Cycles:\\s(\\d+)', stats, re.DOTALL)\n",
    "    cycles = int(res[0])\n",
    "\n",
    "    res = re.findall(r'Energy:\\s(\\d+.\\d+)\\suJ', stats, re.DOTALL)\n",
    "    energy = float(res[0])\n",
    "\n",
    "    f.close()\n",
    "\n",
    "  return utilization, efficiency, cycles, energy\n",
    "\n",
    "# Plot Styling\n",
    "font_size = 8\n",
    "_new_black = '#373737'\n",
    "color_grid = '#F1F5B7'\n",
    "color1 = '#EBF095'\n",
    "color2 = '#DEE600'\n",
    "sns.set_theme(style='ticks', font_scale=0.75, rc={\n",
    "    'font.family': 'serif',\n",
    "    'font.serif': ['Linux Libertine O'],\n",
    "    'svg.fonttype': 'none',\n",
    "    'text.usetex': False,\n",
    "    'pdf.fonttype': 42,\n",
    "    'ps.fonttype': 42,\n",
    "    'font.size': font_size,\n",
    "    'axes.labelsize': font_size,\n",
    "    'axes.titlesize': font_size,\n",
    "    'axes.labelpad': 2,\n",
    "    'axes.linewidth': 1,\n",
    "    'axes.titlepad': 4,\n",
    "    'lines.linewidth': 1,\n",
    "    'legend.fontsize': font_size,\n",
    "    'legend.title_fontsize': font_size,\n",
    "    'xtick.labelsize': font_size,\n",
    "    'ytick.labelsize': font_size,\n",
    "    'xtick.major.size': 2,\n",
    "    'xtick.major.pad': 1,\n",
    "    'xtick.major.width': 1,\n",
    "    'ytick.major.size': 2,\n",
    "    'ytick.major.pad': 1,\n",
    "    'ytick.major.width': 1,\n",
    "    'xtick.minor.size': 2,\n",
    "    'xtick.minor.pad': 1,\n",
    "    'xtick.minor.width': 1,\n",
    "    'ytick.minor.size': 2,\n",
    "    'ytick.minor.pad': 1,\n",
    "    'ytick.minor.width': 1,\n",
    "    'text.color': _new_black,\n",
    "    'patch.edgecolor': _new_black,\n",
    "    'patch.force_edgecolor': False,\n",
    "    'hatch.color': _new_black,\n",
    "    'axes.edgecolor': _new_black,\n",
    "    'axes.labelcolor': _new_black,\n",
    "    'xtick.color': _new_black,\n",
    "    'ytick.color': _new_black,\n",
    "    'figure.figsize': (3.34,1.5),\n",
    "    'axes.grid' : True,\n",
    "    'grid.color': color_grid,\n",
    "})"
   ]
  },
  {
   "attachments": {},
   "cell_type": "markdown",
   "metadata": {},
   "source": [
    "### EDP Comparison"
   ]
  },
  {
   "cell_type": "code",
   "execution_count": 2,
   "metadata": {
    "vscode": {
     "languageId": "python"
    }
   },
   "outputs": [
    {
     "data": {
      "image/png": "[encoded data removed]",
      "text/plain": [
       "<Figure size 334x150 with 1 Axes>"
      ]
     },
     "metadata": {},
     "output_type": "display_data"
    }
   ],
   "source": [
    "plot_ref = False # Set true to plot reference results\n",
    "ref_sfx = '-ref' if plot_ref else ''\n",
    "\n",
    "layer_names = ['VGG_conv2', 'Inception_conv2', 'AlexNet_conv2', 'AlexNet_conv4', 'ResNet_conv3', 'ResNet_conv4']\n",
    "\n",
    "data = pd.DataFrame()\n",
    "for method, method_name in zip(['mindmappings', 'lemon'], ['MindMappings', 'LEMON']):\n",
    "    for i, layer_name in enumerate(layer_names):\n",
    "        stats_file = glob.glob(f'./results{ref_sfx}/{method}/{i}/*.stats.txt')[0]\n",
    "        utilization, efficiency, cycles, energy = extract_tl_stats(stats_file)\n",
    "\n",
    "        with open(f'./results{ref_sfx}/{method}/runtime.json', 'r') as runtime_file:\n",
    "            runtime_dict = json.load(runtime_file)\n",
    "            runtime = runtime_dict[str(i)]\n",
    "\n",
    "        df_dict = {\n",
    "          'Method': method_name,\n",
    "          'Layer': layer_name,\n",
    "          'Energy [uJ]': energy,\n",
    "          'Cycles': cycles,\n",
    "          'EDP': energy*cycles,\n",
    "          'Runtime [s]': runtime,\n",
    "        }\n",
    "        data = pd.concat([data, pd.DataFrame(df_dict, index=[0])])\n",
    "\n",
    "data['Normalized EDP'] = data.groupby('Layer')['EDP'].transform(lambda x: x/x.max())\n",
    "g = sns.barplot(data, x='Layer', y='Normalized EDP', hue='Method', palette=[color1, color2])\n",
    "plt.xticks(rotation=45, ha='right')\n",
    "sns.move_legend(\n",
    "    g, \"upper center\",\n",
    "    bbox_to_anchor=(0.5, 1.2), ncol=2, title=None, frameon=False,\n",
    ")\n",
    "g.margins(x=0.04)\n",
    "\n",
    "for p in g.patches:\n",
    "    if p.get_height() < 1.0:\n",
    "        g.annotate(f'{p.get_height():.2f}'.lstrip('0'), \n",
    "                    (p.get_x() + p.get_width() / 2., p.get_height()), \n",
    "                    ha = 'center', va = 'center', \n",
    "                    xytext = (0.1, 3.3), \n",
    "                    textcoords = 'offset points', fontsize=5)\n",
    "\n",
    "sns.despine()\n",
    "_ = g.set_xlabel(None)\n",
    "\n",
    "#plt.savefig('mindmappings.pdf', bbox_inches='tight', pad_inches = 0)\n"
   ]
  },
  {
   "attachments": {},
   "cell_type": "markdown",
   "metadata": {},
   "source": [
    "### Runtime Comparison"
   ]
  },
  {
   "attachments": {},
   "cell_type": "markdown",
   "metadata": {},
   "source": [
    "- Ignoring MindMappings surrogate model training time...\n",
    "- In the order of seconds for both methods"
   ]
  },
  {
   "cell_type": "code",
   "execution_count": 3,
   "metadata": {
    "vscode": {
     "languageId": "python"
    }
   },
   "outputs": [
    {
     "name": "stdout",
     "output_type": "stream",
     "text": [
      "         Method            Layer  Energy [uJ]     Cycles           EDP   \n",
      "0  MindMappings        VGG_conv2    358475.75  462422016  1.657671e+14  \\\n",
      "0  MindMappings  Inception_conv2    867060.52  346816512  3.007109e+14   \n",
      "0  MindMappings    AlexNet_conv2    119822.22  111974400  1.341702e+13   \n",
      "0  MindMappings    AlexNet_conv4    105407.38   37380096  3.940138e+12   \n",
      "0  MindMappings     ResNet_conv3     89244.85   28901376  2.579299e+12   \n",
      "0  MindMappings     ResNet_conv4     28843.59   28901376  8.336194e+11   \n",
      "0         LEMON        VGG_conv2    172035.33   57802752  9.944116e+12   \n",
      "0         LEMON  Inception_conv2    128570.69   43352064  5.573805e+12   \n",
      "0         LEMON    AlexNet_conv2     40634.56   13996800  5.687538e+11   \n",
      "0         LEMON    AlexNet_conv4     20819.48    7008768  1.459189e+11   \n",
      "0         LEMON     ResNet_conv3     21471.44    7225344  1.551385e+11   \n",
      "0         LEMON     ResNet_conv4     21465.80    7225344  1.550978e+11   \n",
      "\n",
      "   Runtime [s]  Normalized EDP  \n",
      "0    12.952330        1.000000  \n",
      "0    21.758674        1.000000  \n",
      "0    12.413590        1.000000  \n",
      "0    16.054530        1.000000  \n",
      "0    16.139946        1.000000  \n",
      "0    12.308352        1.000000  \n",
      "0    36.177896        0.059988  \n",
      "0    76.638788        0.018535  \n",
      "0    27.921037        0.042390  \n",
      "0    64.900424        0.037034  \n",
      "0    40.410258        0.060148  \n",
      "0    43.681211        0.186053  \n"
     ]
    },
    {
     "data": {
      "image/png": "[encoded data removed]",
      "text/plain": [
       "<Figure size 334x150 with 1 Axes>"
      ]
     },
     "metadata": {},
     "output_type": "display_data"
    }
   ],
   "source": [
    "print(data)\n",
    "\n",
    "data['Normalized Runtime'] = data.groupby('Layer')['Runtime [s]'].transform(lambda x: x/x.max())\n",
    "\n",
    "g = sns.barplot(data, x='Layer', y='Runtime [s]', hue='Method')\n",
    "_ = plt.xticks(rotation=45, ha='right')\n",
    "sns.move_legend(g, \"upper center\", bbox_to_anchor=(0.5, 1.2), ncol=2, title=None, frameon=False)\n",
    "sns.despine()\n",
    "_ = g.set_xlabel(None)"
   ]
  },
  {
   "cell_type": "code",
   "execution_count": null,
   "metadata": {
    "vscode": {
     "languageId": "python"
    }
   },
   "outputs": [],
   "source": []
  }
 ],
 "metadata": {
  "kernelspec": {
   "display_name": "Python 3 (ipykernel)",
   "language": "python",
   "name": "python3"
  },
  "orig_nbformat": 4,
  "vscode": {
   "interpreter": {
    "hash": "e7370f93d1d0cde622a1f8e1c04877d8463912d04d973331ad4851f04de6915a"
   }
  }
 },
 "nbformat": 4,
 "nbformat_minor": 2
}
