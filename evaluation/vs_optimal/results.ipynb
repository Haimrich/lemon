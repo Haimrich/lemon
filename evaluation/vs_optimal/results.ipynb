{
 "cells": [
  {
   "attachments": {},
   "cell_type": "markdown",
   "metadata": {},
   "source": [
    "- EDP for LEMON can be found in `./results/lemon/timeloop-model.stats.txt`, at the end of the file under \"Summary Stats\".\n",
    "- Runtime for LEMON can be found in `./results/lemon/logs.txt` at the end (\"real\" time considered).\n",
    "\n",
    "- EDP for Timeloop Mapper can be found in `./results/timeloop/timeloop-mapper.stats.txt`, at the end of the file under \"Summary Stats\".\n",
    "- Runtime for LEMON can be found in `./results/timeloop/logs.txt` at the end (\"real\" time considered)."
   ]
  },
  {
   "cell_type": "code",
   "execution_count": 2,
   "metadata": {
    "vscode": {
     "languageId": "python"
    }
   },
   "outputs": [
    {
     "name": "stdout",
     "output_type": "stream",
     "text": [
      "LEMON achieved an EDP 1.08% worse than optimal.\n",
      "Finding optimal took 17500.1x more time than LEMON\n"
     ]
    }
   ],
   "source": [
    "# Put values here\n",
    "lemon_edp = 4.70e+02\n",
    "lemon_runtime = 2.037\n",
    "\n",
    "optimal_edp = 4.65e+02\n",
    "optimal_runtime = 594*60 + 7.680\n",
    "\n",
    "print(f'LEMON achieved an EDP {100 * (lemon_edp - optimal_edp) / optimal_edp:.2f}% worse than optimal.')\n",
    "print(f'Finding optimal took {optimal_runtime / lemon_runtime :.1f}x more time than LEMON')"
   ]
  },
  {
   "cell_type": "code",
   "execution_count": null,
   "metadata": {
    "vscode": {
     "languageId": "python"
    }
   },
   "outputs": [],
   "source": []
  }
 ],
 "metadata": {
  "kernelspec": {
   "display_name": "Python 3 (ipykernel)",
   "language": "python",
   "name": "python3"
  },
  "orig_nbformat": 4,
  "vscode": {
   "interpreter": {
    "hash": "e7370f93d1d0cde622a1f8e1c04877d8463912d04d973331ad4851f04de6915a"
   }
  }
 },
 "nbformat": 4,
 "nbformat_minor": 2
}
